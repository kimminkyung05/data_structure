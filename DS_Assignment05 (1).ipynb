{
  "nbformat": 4,
  "nbformat_minor": 0,
  "metadata": {
    "colab": {
      "provenance": [],
      "collapsed_sections": [
        "fJBIFEYXT-Vi",
        "utcCbaFiUEbG",
        "UxBAmk6fdVW5",
        "zz7-Iz_zzqOK"
      ]
    },
    "kernelspec": {
      "name": "python3",
      "display_name": "Python 3"
    },
    "language_info": {
      "name": "python"
    }
  },
  "cells": [
    {
      "cell_type": "markdown",
      "source": [
        "# 3번 문제 : 생일이 느린 순서로 10명 출력"
      ],
      "metadata": {
        "id": "fJBIFEYXT-Vi"
      }
    },
    {
      "cell_type": "code",
      "execution_count": 9,
      "metadata": {
        "colab": {
          "base_uri": "https://localhost:8080/",
          "height": 274
        },
        "id": "q34ZGzG2kA5o",
        "outputId": "2d2cd111-7952-4296-c930-fff9bbd2f143"
      },
      "outputs": [
        {
          "output_type": "display_data",
          "data": {
            "text/plain": [
              "<IPython.core.display.HTML object>"
            ],
            "text/html": [
              "\n",
              "     <input type=\"file\" id=\"files-7a8ae136-dae1-4a07-aa51-d7d38df6a4c8\" name=\"files[]\" multiple disabled\n",
              "        style=\"border:none\" />\n",
              "     <output id=\"result-7a8ae136-dae1-4a07-aa51-d7d38df6a4c8\">\n",
              "      Upload widget is only available when the cell has been executed in the\n",
              "      current browser session. Please rerun this cell to enable.\n",
              "      </output>\n",
              "      <script>// Copyright 2017 Google LLC\n",
              "//\n",
              "// Licensed under the Apache License, Version 2.0 (the \"License\");\n",
              "// you may not use this file except in compliance with the License.\n",
              "// You may obtain a copy of the License at\n",
              "//\n",
              "//      http://www.apache.org/licenses/LICENSE-2.0\n",
              "//\n",
              "// Unless required by applicable law or agreed to in writing, software\n",
              "// distributed under the License is distributed on an \"AS IS\" BASIS,\n",
              "// WITHOUT WARRANTIES OR CONDITIONS OF ANY KIND, either express or implied.\n",
              "// See the License for the specific language governing permissions and\n",
              "// limitations under the License.\n",
              "\n",
              "/**\n",
              " * @fileoverview Helpers for google.colab Python module.\n",
              " */\n",
              "(function(scope) {\n",
              "function span(text, styleAttributes = {}) {\n",
              "  const element = document.createElement('span');\n",
              "  element.textContent = text;\n",
              "  for (const key of Object.keys(styleAttributes)) {\n",
              "    element.style[key] = styleAttributes[key];\n",
              "  }\n",
              "  return element;\n",
              "}\n",
              "\n",
              "// Max number of bytes which will be uploaded at a time.\n",
              "const MAX_PAYLOAD_SIZE = 100 * 1024;\n",
              "\n",
              "function _uploadFiles(inputId, outputId) {\n",
              "  const steps = uploadFilesStep(inputId, outputId);\n",
              "  const outputElement = document.getElementById(outputId);\n",
              "  // Cache steps on the outputElement to make it available for the next call\n",
              "  // to uploadFilesContinue from Python.\n",
              "  outputElement.steps = steps;\n",
              "\n",
              "  return _uploadFilesContinue(outputId);\n",
              "}\n",
              "\n",
              "// This is roughly an async generator (not supported in the browser yet),\n",
              "// where there are multiple asynchronous steps and the Python side is going\n",
              "// to poll for completion of each step.\n",
              "// This uses a Promise to block the python side on completion of each step,\n",
              "// then passes the result of the previous step as the input to the next step.\n",
              "function _uploadFilesContinue(outputId) {\n",
              "  const outputElement = document.getElementById(outputId);\n",
              "  const steps = outputElement.steps;\n",
              "\n",
              "  const next = steps.next(outputElement.lastPromiseValue);\n",
              "  return Promise.resolve(next.value.promise).then((value) => {\n",
              "    // Cache the last promise value to make it available to the next\n",
              "    // step of the generator.\n",
              "    outputElement.lastPromiseValue = value;\n",
              "    return next.value.response;\n",
              "  });\n",
              "}\n",
              "\n",
              "/**\n",
              " * Generator function which is called between each async step of the upload\n",
              " * process.\n",
              " * @param {string} inputId Element ID of the input file picker element.\n",
              " * @param {string} outputId Element ID of the output display.\n",
              " * @return {!Iterable<!Object>} Iterable of next steps.\n",
              " */\n",
              "function* uploadFilesStep(inputId, outputId) {\n",
              "  const inputElement = document.getElementById(inputId);\n",
              "  inputElement.disabled = false;\n",
              "\n",
              "  const outputElement = document.getElementById(outputId);\n",
              "  outputElement.innerHTML = '';\n",
              "\n",
              "  const pickedPromise = new Promise((resolve) => {\n",
              "    inputElement.addEventListener('change', (e) => {\n",
              "      resolve(e.target.files);\n",
              "    });\n",
              "  });\n",
              "\n",
              "  const cancel = document.createElement('button');\n",
              "  inputElement.parentElement.appendChild(cancel);\n",
              "  cancel.textContent = 'Cancel upload';\n",
              "  const cancelPromise = new Promise((resolve) => {\n",
              "    cancel.onclick = () => {\n",
              "      resolve(null);\n",
              "    };\n",
              "  });\n",
              "\n",
              "  // Wait for the user to pick the files.\n",
              "  const files = yield {\n",
              "    promise: Promise.race([pickedPromise, cancelPromise]),\n",
              "    response: {\n",
              "      action: 'starting',\n",
              "    }\n",
              "  };\n",
              "\n",
              "  cancel.remove();\n",
              "\n",
              "  // Disable the input element since further picks are not allowed.\n",
              "  inputElement.disabled = true;\n",
              "\n",
              "  if (!files) {\n",
              "    return {\n",
              "      response: {\n",
              "        action: 'complete',\n",
              "      }\n",
              "    };\n",
              "  }\n",
              "\n",
              "  for (const file of files) {\n",
              "    const li = document.createElement('li');\n",
              "    li.append(span(file.name, {fontWeight: 'bold'}));\n",
              "    li.append(span(\n",
              "        `(${file.type || 'n/a'}) - ${file.size} bytes, ` +\n",
              "        `last modified: ${\n",
              "            file.lastModifiedDate ? file.lastModifiedDate.toLocaleDateString() :\n",
              "                                    'n/a'} - `));\n",
              "    const percent = span('0% done');\n",
              "    li.appendChild(percent);\n",
              "\n",
              "    outputElement.appendChild(li);\n",
              "\n",
              "    const fileDataPromise = new Promise((resolve) => {\n",
              "      const reader = new FileReader();\n",
              "      reader.onload = (e) => {\n",
              "        resolve(e.target.result);\n",
              "      };\n",
              "      reader.readAsArrayBuffer(file);\n",
              "    });\n",
              "    // Wait for the data to be ready.\n",
              "    let fileData = yield {\n",
              "      promise: fileDataPromise,\n",
              "      response: {\n",
              "        action: 'continue',\n",
              "      }\n",
              "    };\n",
              "\n",
              "    // Use a chunked sending to avoid message size limits. See b/62115660.\n",
              "    let position = 0;\n",
              "    do {\n",
              "      const length = Math.min(fileData.byteLength - position, MAX_PAYLOAD_SIZE);\n",
              "      const chunk = new Uint8Array(fileData, position, length);\n",
              "      position += length;\n",
              "\n",
              "      const base64 = btoa(String.fromCharCode.apply(null, chunk));\n",
              "      yield {\n",
              "        response: {\n",
              "          action: 'append',\n",
              "          file: file.name,\n",
              "          data: base64,\n",
              "        },\n",
              "      };\n",
              "\n",
              "      let percentDone = fileData.byteLength === 0 ?\n",
              "          100 :\n",
              "          Math.round((position / fileData.byteLength) * 100);\n",
              "      percent.textContent = `${percentDone}% done`;\n",
              "\n",
              "    } while (position < fileData.byteLength);\n",
              "  }\n",
              "\n",
              "  // All done.\n",
              "  yield {\n",
              "    response: {\n",
              "      action: 'complete',\n",
              "    }\n",
              "  };\n",
              "}\n",
              "\n",
              "scope.google = scope.google || {};\n",
              "scope.google.colab = scope.google.colab || {};\n",
              "scope.google.colab._files = {\n",
              "  _uploadFiles,\n",
              "  _uploadFilesContinue,\n",
              "};\n",
              "})(self);\n",
              "</script> "
            ]
          },
          "metadata": {}
        },
        {
          "output_type": "stream",
          "name": "stdout",
          "text": [
            "Saving DS_Birthdaydata.csv to DS_Birthdaydata.csv\n",
            "생일이 가장 느린 사람 10명:\n",
            "******82 - 홍서연 - 20241282\n",
            "******22 - 신수민 - 20051230\n",
            "******42 - 이서영 - 20051225\n",
            "******69 - 강민주 - 20051214\n",
            "******78 - 김민경 - 20051202\n",
            "******41 - 이서영 - 20051112\n",
            "******17 - 배시은 - 20051102\n",
            "******87 - 김여원 - 20051031\n",
            "******44 - 이서진 - 20051028\n",
            "******64 - 서홍빈 - 20051024\n"
          ]
        }
      ],
      "source": [
        "from google.colab import files\n",
        "uploaded = files.upload()\n",
        "\n",
        "import pandas as pd\n",
        "\n",
        "class Heap:\n",
        "    def __init__(self, *args):\n",
        "        self.__A = args[0] if args else []\n",
        "\n",
        "    def insert(self, x):\n",
        "        self.__A.append(x)\n",
        "        self.__percolateUp(len(self.__A) - 1)\n",
        "\n",
        "    def __percolateUp(self, i):\n",
        "        parent = (i - 1) // 2\n",
        "        if i > 0 and self.__A[i] > self.__A[parent]:\n",
        "            self.__A[i], self.__A[parent] = self.__A[parent], self.__A[i]\n",
        "            self.__percolateUp(parent)\n",
        "\n",
        "    def deleteMax(self):\n",
        "        if not self.isEmpty():\n",
        "            max = self.__A[0]\n",
        "            self.__A[0] = self.__A.pop()\n",
        "            self.__percolateDown(0)\n",
        "            return max\n",
        "        return None\n",
        "\n",
        "    def __percolateDown(self, i):\n",
        "        child = 2 * i + 1\n",
        "        right = 2 * i + 2\n",
        "        if child <= len(self.__A) - 1:\n",
        "            if right <= len(self.__A) - 1 and self.__A[child] < self.__A[right]:\n",
        "                child = right\n",
        "            if self.__A[i] < self.__A[child]:\n",
        "                self.__A[i], self.__A[child] = self.__A[child], self.__A[i]\n",
        "                self.__percolateDown(child)\n",
        "\n",
        "    def max(self):\n",
        "        return self.__A[0]\n",
        "\n",
        "    def buildHeap(self):\n",
        "        for i in range((len(self.__A) - 2) // 2, -1, -1):\n",
        "            self.__percolateDown(i)\n",
        "\n",
        "    def isEmpty(self):\n",
        "        return len(self.__A) == 0\n",
        "\n",
        "    def clear(self):\n",
        "        self.__A = []\n",
        "\n",
        "    def size(self):\n",
        "        return len(self.__A)\n",
        "\n",
        "file_path = 'DS_Birthdaydata.csv'\n",
        "df = pd.read_csv(file_path)\n",
        "\n",
        "heap = Heap()\n",
        "\n",
        "for _, row in df.iterrows():\n",
        "    raw_birthday = row['생년월일8자리(예.20040101)']\n",
        "    if pd.isna(raw_birthday) or raw_birthday == '':\n",
        "        continue\n",
        "    birthday = str(int(raw_birthday))\n",
        "    name = row['이름']\n",
        "    student_id = row['학번']\n",
        "    heap.insert((birthday, name, student_id))\n",
        "\n",
        "print(\"생일이 가장 느린 사람 10명:\")\n",
        "for _ in range(10):\n",
        "    if not heap.isEmpty():\n",
        "        birthday, name, student_id = heap.deleteMax()\n",
        "        print(f\"{student_id} - {name} - {birthday}\")\n"
      ]
    },
    {
      "cell_type": "markdown",
      "source": [
        "DS_Birthdaydata.csv\n",
        "DS_Birthdaydata.csv(text/csv) - 3908 bytes, last modified: 2025. 4. 14. - 100% done\n",
        "Saving DS_Birthdaydata.csv to DS_Birthdaydata.csv\n",
        "생일이 가장 느린 사람 10명:\n",
        "******82 - 홍서연 - 20241282\n",
        "******22 - 신수민 - 20051230\n",
        "******42 - 이서영 - 20051225\n",
        "******69 - 강민주 - 20051214\n",
        "******78 - 김민경 - 20051202\n",
        "******41 - 이서영 - 20051112\n",
        "******17 - 배시은 - 20051102\n",
        "******87 - 김여원 - 20051031\n",
        "******44 - 이서진 - 20051028\n",
        "******64 - 서홍빈 - 20051024"
      ],
      "metadata": {
        "id": "Pe0Px50XgJh9"
      }
    },
    {
      "cell_type": "markdown",
      "source": [
        "# 4번 문제 : 조원 이름과 생년월일 출력"
      ],
      "metadata": {
        "id": "utcCbaFiUEbG"
      }
    },
    {
      "cell_type": "code",
      "source": [
        "class BidirectNode:\n",
        "    def __init__(self, item, prev, next):\n",
        "        self.item = item\n",
        "        self.prev = prev\n",
        "        self.next = next\n",
        "\n",
        "class CircularDoublyLinkedList:\n",
        "\tdef __init__(self):\n",
        "\t\tself.__head = BidirectNode(\"dummy\", None, None)\n",
        "\t\tself.__head.prev = self.__head\n",
        "\t\tself.__head.next = self.__head\n",
        "\t\tself.__numItems = 0\n",
        "\n",
        "\tdef insert(self, i:int, newItem) -> None:\n",
        "\t\tif (i >= 0 and i <= self.__numItems):\n",
        "\t\t\tprev = self.getNode(i - 1)\n",
        "\t\t\tnewNode = BidirectNode(newItem, prev, prev.next)\n",
        "\t\t\tnewNode.next.prev = newNode\n",
        "\t\t\tprev.next = newNode\n",
        "\t\t\tself.__numItems += 1\n",
        "\t\telse:\n",
        "\t\t\tprint(\"index\", i, \": out of bound in insert()\") # 필요 시 에러 처리\n",
        "\n",
        "\tdef append(self, newItem) -> None:\n",
        "\t\tprev = self.__head.prev\n",
        "\t\tnewNode = BidirectNode(newItem, prev, self.__head)\n",
        "\t\tprev.next = newNode\n",
        "\t\tself.__head.prev = newNode\n",
        "\t\tself.__numItems += 1\n",
        "\n",
        "\tdef pop(self, *args):\n",
        "\t\t# 가변 파라미터. 인자가 없거나 -1이면 마지막 원소로 처리하기 위함. 파이썬 리스트 규칙 만족\n",
        "\t\tif self.isEmpty():\n",
        "\t\t\treturn None\n",
        "\t\t# 인덱스 i 결정\n",
        "\t\tif len(args) != 0: # pop(k)과 같이 인자가 있으면 i = k 할당\n",
        "\t\t\ti = args[0]\n",
        "\t\tif len(args) == 0 or i == -1:# pop()에 인자가 없거나 pop(-1)이면 i에 맨 끝 인덱스 할당\n",
        "\t\t\ti = self.__numItems - 1\n",
        "\t\t# i번 원소 삭제\n",
        "\t\tif (i >= 0 and i <= self.__numItems - 1):\n",
        "\t\t\tcurr = self.getNode(i)\n",
        "\t\t\tretItem = curr.item\n",
        "\t\t\tcurr.prev.next = curr.next\n",
        "\t\t\tcurr.next.prev = curr.prev\n",
        "\t\t\tself.__numItems -= 1\n",
        "\t\t\treturn retItem\n",
        "\t\telse:\n",
        "\t\t\treturn None\n",
        "\n",
        "\tdef get(self, *args):\n",
        "\t\t# 가변 파라미터. 인자가 없거나 -1이면 마지막 원소로 처리하기 위함. 파이썬 리스트 규칙 만족\n",
        "\t\tif self.isEmpty(): return None\n",
        "\t\t# 인덱스 i 결정\n",
        "\t\tif len(args) != 0:   # pop(k)과 같이 인자가 있으면 i = k 할당\n",
        "\t\t\ti = args[0]\n",
        "\t\tif len(args) == 0 or i == -1:\n",
        "\t\t\ti = self.__numItems - 1\n",
        "\t\t# i번 원소 리턴\n",
        "\t\tif (i >= 0 and i <= self.__numItems - 1):\n",
        "\t\t\treturn self.getNode(i).item\n",
        "\t\telse:\n",
        "\t\t\treturn None\n",
        "\n",
        "\tdef isEmpty(self) -> bool:\n",
        "\t\treturn self.__numItems == 0\n",
        "\n",
        "\tdef __findNode(self, x) -> BidirectNode:\n",
        "\t\tcurr = self.__head.next  # 0번 노드\n",
        "\t\twhile curr != self.__head:\n",
        "\n",
        "\t\t\tif curr.item == x:\n",
        "\t\t\t\treturn curr\n",
        "\t\t\telse:\n",
        "\t\t\t\tcurr = curr.next\n",
        "\t\treturn None\n",
        "\n",
        "\tdef getNode(self, i:int) -> BidirectNode:\n",
        "\t\tcurr = self.__head  # 더미 헤드, index: -1\n",
        "\t\tfor index in range(i + 1):\n",
        "\t\t\tcurr = curr.next\n",
        "\t\treturn curr\n",
        "\n",
        "class Friend:\n",
        "    def __init__(self, name, birth_date):\n",
        "        self.name = name\n",
        "        self.birth_date = birth_date\n",
        "\n",
        "from google.colab import drive\n",
        "drive.mount('/content/drive')\n",
        "\n",
        "import pandas as pd\n",
        "file_path = '/content/drive/MyDrive/DS_Birthdaydata.csv'\n",
        "df = pd.read_csv(file_path)\n",
        "\n",
        "circular_doubly_linked_list = CircularDoublyLinkedList()\n",
        "\n",
        "for _, row in df.iterrows():\n",
        "    name = row['이름']\n",
        "    raw_birthday = row['생년월일8자리(예.20040101)']\n",
        "\n",
        "    if pd.isna(raw_birthday) or raw_birthday == '':\n",
        "        continue\n",
        "\n",
        "    birthday = str(int(raw_birthday))\n",
        "    friend = Friend(name, birthday)\n",
        "    circular_doubly_linked_list.append(friend)\n",
        "\n",
        "my_team_names = [\"김연진\",\"변수연\",\"정윤서\",\"박서연\",\"노은서\",\"오세은\",\"박성연\",\"김민경\",\"김보민\",\"홍서연\"]\n",
        "\n",
        "\n",
        "curr = circular_doubly_linked_list._CircularDoublyLinkedList__head.next\n",
        "while curr != circular_doubly_linked_list._CircularDoublyLinkedList__head:\n",
        "    if curr.item.name in my_team_names:\n",
        "        print(f\"이름: {curr.item.name}, 생년월일: {curr.item.birth_date}\")\n",
        "    curr = curr.next"
      ],
      "metadata": {
        "colab": {
          "base_uri": "https://localhost:8080/"
        },
        "id": "MlJoXn0iULIN",
        "outputId": "1fba78a5-ace7-42c4-b00b-68a277dcb2a1"
      },
      "execution_count": 17,
      "outputs": [
        {
          "output_type": "stream",
          "name": "stdout",
          "text": [
            "Drive already mounted at /content/drive; to attempt to forcibly remount, call drive.mount(\"/content/drive\", force_remount=True).\n",
            "이름: 김민경, 생년월일: 20051202\n",
            "이름: 김보민, 생년월일: 20020911\n",
            "이름: 김연진, 생년월일: 20010826\n",
            "이름: 노은서, 생년월일: 20050316\n",
            "이름: 박서연, 생년월일: 20040428\n",
            "이름: 박성연, 생년월일: 20040514\n",
            "이름: 변수연, 생년월일: 20040802\n",
            "이름: 오세은, 생년월일: 20050328\n",
            "이름: 정윤서, 생년월일: 20030802\n",
            "이름: 홍서연, 생년월일: 20040611\n",
            "이름: 홍서연, 생년월일: 20241282\n"
          ]
        }
      ]
    },
    {
      "cell_type": "markdown",
      "source": [
        "Drive already mounted at /content/drive; to attempt to forcibly remount, call drive.mount(\"/content/drive\", force_remount=True).\n",
        "이름: 김민경, 생년월일: 20051202\n",
        "이름: 김보민, 생년월일: 20020911\n",
        "이름: 김연진, 생년월일: 20010826\n",
        "이름: 노은서, 생년월일: 20050316\n",
        "이름: 박서연, 생년월일: 20040428\n",
        "이름: 박성연, 생년월일: 20040514\n",
        "이름: 변수연, 생년월일: 20040802\n",
        "이름: 오세은, 생년월일: 20050328\n",
        "이름: 정윤서, 생년월일: 20030802\n",
        "이름: 홍서연, 생년월일: 20040611\n",
        "이름: 홍서연, 생년월일: 20241282"
      ],
      "metadata": {
        "id": "2Bh17DJbg_jZ"
      }
    },
    {
      "cell_type": "markdown",
      "source": [
        "# 교재 8장 연습문제"
      ],
      "metadata": {
        "id": "UxBAmk6fdVW5"
      }
    },
    {
      "cell_type": "markdown",
      "source": [
        "연습문제 1:"
      ],
      "metadata": {
        "id": "Eaq6IKyqh-Cp"
      }
    },
    {
      "cell_type": "markdown",
      "source": [
        "가질 수 있다.\n",
        "루트 노드로부터 다른 가지에서 나온 경우 임의의 최대 힙에서 더 얕은 곳에 있는 원소가 더 깊은 곳에 있는 원소보다 더 작은 값을 가질 수 있다."
      ],
      "metadata": {
        "id": "zVdJAdH1i2op"
      }
    },
    {
      "cell_type": "markdown",
      "source": [
        "연습문제 2:"
      ],
      "metadata": {
        "id": "YUDYyX4ii-wX"
      }
    },
    {
      "cell_type": "markdown",
      "source": [
        "항상 가장 작은 값을 가지는 것은 아니다.\n",
        "A[n-1]은 부모노드보다 작은 값을 가지는 것은 맞지만 전체 노드에서 가장 작은 값을 보장하지는 않는다."
      ],
      "metadata": {
        "id": "c0r5-T5gjE_5"
      }
    },
    {
      "cell_type": "markdown",
      "source": [
        "연습문제 3:"
      ],
      "metadata": {
        "id": "-JiuYlmtkIOd"
      }
    },
    {
      "cell_type": "markdown",
      "source": [
        "n-1-((n-2)//2)\n",
        "스며내리기는 자식 노드가 있는 노드만 수행한다. 따라서 스며내리기를 하는 노드 수는 (n-2) //2 + 1이고, 스며내리기를 하지 않는 노드의 수는 n-1 - ((n-2)//2) 이다"
      ],
      "metadata": {
        "id": "XRlkfcbskYFX"
      }
    },
    {
      "cell_type": "markdown",
      "source": [
        "연습문제 4:"
      ],
      "metadata": {
        "id": "qWy42Mb0pJvX"
      }
    },
    {
      "cell_type": "markdown",
      "source": [
        "최악의 경우 : Θ(logn)\n",
        "최선의 경우 : Θ(1)\n",
        "\n",
        "최악의 경우는 가장 아래까지 내려가는경우 즉, 트리의 높이인 Θ(logn)의 경우이고, 최선의 경우는 교환없이 종료되는 Θ(1)의 경우이다."
      ],
      "metadata": {
        "id": "G-UPbzsapXwp"
      }
    },
    {
      "cell_type": "markdown",
      "source": [
        "연습문제 5:"
      ],
      "metadata": {
        "id": "2itf_J8MuH3V"
      }
    },
    {
      "cell_type": "markdown",
      "source": [
        "간단하다.\n",
        "테스트용 마지막 요소 삭제는 pop으로 가능하고 이는 힙 성질에 영향을 주지 않기에 간단하다고 판단할 수 있다.\n"
      ],
      "metadata": {
        "id": "Cjy97PzCuKQj"
      }
    },
    {
      "cell_type": "markdown",
      "source": [
        "연습문제 6:"
      ],
      "metadata": {
        "id": "qUBFVFKCwCWE"
      }
    },
    {
      "cell_type": "markdown",
      "source": [
        "비효율적이며, Θ(nlogn)의 시간이 소요된다.\n",
        "스며내리기의 경우는 최악의 경우 Θ(n)의 시간이 걸린다. 스며오르기의 경우에는 깊이가 깊어질수록 비교와 교체 작업이 많아져서 n/2 * logn + n/4 * log(n-1) .. 즉, \tΘ(nlogn)의 시간이 소요되고,비효율적이다."
      ],
      "metadata": {
        "id": "RRSmcQb3wEKp"
      }
    },
    {
      "cell_type": "markdown",
      "source": [
        "연습문제 7:"
      ],
      "metadata": {
        "id": "AljrvnxBx6Q0"
      }
    },
    {
      "cell_type": "markdown",
      "source": [
        "O(logn)\n",
        "바뀐 노드를 삭제하고(O(logn)) 바꾼 값을 다시 삽입(O(logn))한다. 즉, 시간복잡도는 O(logn)이다."
      ],
      "metadata": {
        "id": "788bMfRxx8yw"
      }
    },
    {
      "cell_type": "markdown",
      "source": [
        "# LeetCode 703.Kth Largest Element in Stream"
      ],
      "metadata": {
        "id": "zz7-Iz_zzqOK"
      }
    },
    {
      "cell_type": "code",
      "source": [
        "import heapq\n",
        "\n",
        "class KthLargest:\n",
        "    def __init__(self, k, nums):\n",
        "        self.k = k\n",
        "        self.heap = nums\n",
        "        heapq.heapify(self.heap)\n",
        "        while len(self.heap) > k:\n",
        "            heapq.heappop(self.heap)\n",
        "\n",
        "    def add(self, val):\n",
        "        heapq.heappush(self.heap, val)\n",
        "        if len(self.heap) > self.k:\n",
        "            heapq.heappop(self.heap)\n",
        "        return self.heap[0]\n",
        "\n",
        "if __name__ == \"__main__\":\n",
        "    commands = [\"KthLargest\", \"add\", \"add\", \"add\", \"add\", \"add\"]\n",
        "    print(commands)\n",
        "    inputs = [[3, [4, 5, 8, 2]], [3], [5], [10], [9], [4]]\n",
        "    print(inputs)\n",
        "\n",
        "    output = []\n",
        "    kth = None\n",
        "\n",
        "    for cmd, inp in zip(commands, inputs):\n",
        "        if cmd == \"KthLargest\":\n",
        "            k, nums = inp\n",
        "            kth = KthLargest(k, nums)\n",
        "            output.append(None)\n",
        "        elif cmd == \"add\":\n",
        "            val = inp[0]\n",
        "            result = kth.add(val)\n",
        "            output.append(result)\n",
        "\n",
        "    print(output)"
      ],
      "metadata": {
        "id": "39ILvy-W0BCv",
        "colab": {
          "base_uri": "https://localhost:8080/"
        },
        "outputId": "bc6a0caf-1eb7-49d6-a3e2-7eb51be7ae7e"
      },
      "execution_count": 6,
      "outputs": [
        {
          "output_type": "stream",
          "name": "stdout",
          "text": [
            "['KthLargest', 'add', 'add', 'add', 'add', 'add']\n",
            "[[3, [4, 5, 8, 2]], [3], [5], [10], [9], [4]]\n",
            "[None, 4, 5, 5, 8, 8]\n"
          ]
        }
      ]
    }
  ]
}