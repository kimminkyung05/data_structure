{
  "nbformat": 4,
  "nbformat_minor": 0,
  "metadata": {
    "colab": {
      "provenance": []
    },
    "kernelspec": {
      "name": "python3",
      "display_name": "Python 3"
    },
    "language_info": {
      "name": "python"
    }
  },
  "cells": [
    {
      "cell_type": "markdown",
      "source": [
        "LeetCode 225"
      ],
      "metadata": {
        "id": "V-XlYZ15Kdta"
      }
    },
    {
      "cell_type": "code",
      "execution_count": null,
      "metadata": {
        "id": "InrYvAilKVXN"
      },
      "outputs": [],
      "source": [
        "from collections import deque\n",
        "\n",
        "class MyStack:\n",
        "\n",
        "    def __init__(self):\n",
        "        self.q1 = deque()\n",
        "        self.q2 = deque()\n",
        "\n",
        "    def push(self, x):\n",
        "        self.q2.append(x)\n",
        "        while self.q1:\n",
        "            self.q2.append(self.q1.popleft())\n",
        "        self.q1, self.q2 = self.q2, self.q1\n",
        "\n",
        "    def pop(self):\n",
        "        return self.q1.popleft()\n",
        "\n",
        "    def top(self):\n",
        "        return self.q1[0]\n",
        "\n",
        "    def empty(self):\n",
        "        return not self.q1\n"
      ]
    },
    {
      "cell_type": "markdown",
      "source": [
        "Input\n",
        "[\"MyStack\", \"push\", \"push\", \"top\", \"pop\", \"empty\"]\n",
        "[[], [1], [2], [], [], []]\n",
        "Output\n",
        "[null, null, null, 2, 2, false]\n",
        "\n",
        "Explanation\n",
        "MyStack myStack = new MyStack();\n",
        "myStack.push(1);\n",
        "myStack.push(2);\n",
        "myStack.top(); // return 2\n",
        "myStack.pop(); // return 2\n",
        "myStack.empty(); // return False"
      ],
      "metadata": {
        "id": "syaAG72Vhrzu"
      }
    },
    {
      "cell_type": "markdown",
      "source": [
        "LeetCode 232"
      ],
      "metadata": {
        "id": "mc3HLC6CQNan"
      }
    },
    {
      "cell_type": "code",
      "source": [
        "class MyQueue:\n",
        "\n",
        "    def __init__(self):\n",
        "        self.s1 = []\n",
        "        self.s2 = []\n",
        "\n",
        "    def push(self, x):\n",
        "        self.s1.append(x)\n",
        "\n",
        "    def pop(self):\n",
        "        self.move()\n",
        "        return self.s2.pop()\n",
        "\n",
        "    def peek(self):\n",
        "        self.move()\n",
        "        return self.s2[-1]\n",
        "\n",
        "    def empty(self):\n",
        "        return not self.s1 and not self.s2\n",
        "\n",
        "    def move(self):\n",
        "        if not self.s2:\n",
        "            while self.s1:\n",
        "                self.s2.append(self.s1.pop())\n"
      ],
      "metadata": {
        "id": "IxLh1CQ-TDob"
      },
      "execution_count": null,
      "outputs": []
    },
    {
      "cell_type": "markdown",
      "source": [
        "Input\n",
        "[\"MyQueue\", \"push\", \"push\", \"peek\", \"pop\", \"empty\"]\n",
        "[[], [1], [2], [], [], []]\n",
        "Output\n",
        "[null, null, null, 1, 1, false]\n",
        "\n",
        "Explanation\n",
        "MyQueue myQueue = new MyQueue();\n",
        "myQueue.push(1); // queue is: [1]\n",
        "myQueue.push(2); // queue is: [1, 2] (leftmost is front of the queue)\n",
        "myQueue.peek(); // return 1\n",
        "myQueue.pop(); // return 1, queue is [2]\n",
        "myQueue.empty(); // return false"
      ],
      "metadata": {
        "id": "A23uglN7h1OV"
      }
    },
    {
      "cell_type": "markdown",
      "source": [
        "교재 큐 연습문제"
      ],
      "metadata": {
        "id": "sNO-SUxbTMoK"
      }
    },
    {
      "cell_type": "markdown",
      "source": [
        "연습문제 **01**"
      ],
      "metadata": {
        "id": "3YkveZIGUQG5"
      }
    },
    {
      "cell_type": "code",
      "source": [
        "class ListQueue :\n",
        "\n",
        "  def __init__(self):\n",
        "    self.__queue=[]\n",
        "\n",
        "  def enqueue(self,x):\n",
        "    self.__queue.insert(0,x)\n",
        "\n",
        "  def dequeue(self):\n",
        "    return self.__queue.pop()\n",
        "\n",
        "  def front(self):\n",
        "    if self.isEmpty():\n",
        "        \treturn None\n",
        "    return self.__queue[-1]\n",
        "\n",
        "  def isEmpty(self):\n",
        "    return len(self.__queue)==0\n",
        "\n",
        "  def dequeueAll(self):\n",
        "    self.__queue.clear()"
      ],
      "metadata": {
        "id": "MWH2Vr8XTRF6"
      },
      "execution_count": null,
      "outputs": []
    },
    {
      "cell_type": "markdown",
      "source": [
        "연습문제 02"
      ],
      "metadata": {
        "id": "1xLLPfFrWM7H"
      }
    },
    {
      "cell_type": "code",
      "source": [
        "def is_in_set(string) -> bool:\n",
        "    if '$' not in string:\n",
        "        return False\n",
        "\n",
        "    q = ListQueue()\n",
        "    index = 0\n",
        "\n",
        "    while string[index] != '$':\n",
        "        q.enqueue(string[index])\n",
        "        index += 1\n",
        "\n",
        "    index += 1\n",
        "\n",
        "    while index < len(string):\n",
        "        if q.isEmpty():\n",
        "            return False\n",
        "        if q.dequeue() != string[index]:\n",
        "            return False\n",
        "        index += 1\n",
        "\n",
        "    return q.isEmpty()"
      ],
      "metadata": {
        "id": "C4vkaw6NWeBo"
      },
      "execution_count": 1,
      "outputs": []
    },
    {
      "cell_type": "markdown",
      "source": [
        "print(is_in_set(\"abc$cba\"))  # True\n",
        "print(is_in_set(\"ab$ba\"))    # True\n",
        "print(is_in_set(\"a$a\"))      # True\n",
        "print(is_in_set(\"abc$abc\"))  # False\n",
        "print(is_in_set(\"abc$ab\"))   # False\n",
        "print(is_in_set(\"ab$abc\"))   # False"
      ],
      "metadata": {
        "id": "ACC2KDoQowpk"
      }
    },
    {
      "cell_type": "markdown",
      "source": [
        "연습문제 03"
      ],
      "metadata": {
        "id": "iNMVPdjrXHYY"
      }
    },
    {
      "cell_type": "code",
      "source": [
        "def copy_linked(a, b):\n",
        "    b.dequeue_all()\n",
        "    temp_queue = LinkedQueue()\n",
        "\n",
        "    size = a.size()\n",
        "\n",
        "    for _ in range(size):\n",
        "        item = a.dequeue()\n",
        "        temp_queue.enqueue(item)\n",
        "        a.enqueue(item)\n",
        "\n",
        "    while not temp_queue.is_empty():\n",
        "        b.enqueue(temp_queue.dequeue())\n"
      ],
      "metadata": {
        "id": "_GiuZxXMXKrg"
      },
      "execution_count": null,
      "outputs": []
    },
    {
      "cell_type": "markdown",
      "source": [
        "Before copying:\n",
        "Queue A: 10 -> 20 -> 30\n",
        "Queue B:\n",
        "\n",
        "After copying:\n",
        "Queue A: 10 -> 20 -> 30\n",
        "Queue B: 10 -> 20 -> 30"
      ],
      "metadata": {
        "id": "IZ7pBpUco-Nl"
      }
    },
    {
      "cell_type": "markdown",
      "source": [
        "연습문제 04"
      ],
      "metadata": {
        "id": "Pumo13K7cPTJ"
      }
    },
    {
      "cell_type": "code",
      "source": [
        "def push(q1, q2, item):\n",
        "    q2.dequeue_all()\n",
        "    while not q1.is_empty():\n",
        "        q2.enqueue(q1.dequeue())\n",
        "\n",
        "    q1.enqueue(item)\n",
        "\n",
        "    while not q2.is_empty():\n",
        "        q1.enqueue(q2.dequeue())\n",
        "\n",
        "\n",
        "def pop(q1, q2):\n",
        "    q2.dequeue_all()\n",
        "    count = 0\n",
        "\n",
        "    while not q1.is_empty():\n",
        "        q2.enqueue(q1.dequeue())\n",
        "        count += 1\n",
        "\n",
        "    for _ in range(count - 1):\n",
        "        q1.enqueue(q2.dequeue())\n",
        "\n",
        "    return q2.dequeue()"
      ],
      "metadata": {
        "id": "J03GldmScQrR"
      },
      "execution_count": null,
      "outputs": []
    },
    {
      "cell_type": "markdown",
      "source": [
        "연습문제 05"
      ],
      "metadata": {
        "id": "g2ihF5Sjgphs"
      }
    },
    {
      "cell_type": "code",
      "source": [
        "def enqueue(s1, s2, item):\n",
        "    s2.pop_all()\n",
        "\n",
        "    while not s1.is_empty():\n",
        "        s2.push(s1.pop())\n",
        "\n",
        "    s1.push(item)\n",
        "\n",
        "    while not s2.is_empty():\n",
        "        s1.push(s2.pop())\n",
        "\n",
        "\n",
        "def dequeue(s1, s2):\n",
        "    s2.pop_all()\n",
        "\n",
        "    while not s1.is_empty():\n",
        "        s2.push(s1.pop())\n",
        "\n",
        "    ret_item = s2.pop()\n",
        "\n",
        "    while not s2.is_empty():\n",
        "        s1.push(s2.pop())\n",
        "\n",
        "    return ret_item\n"
      ],
      "metadata": {
        "id": "rYBK8AEBhBtU"
      },
      "execution_count": null,
      "outputs": []
    },
    {
      "cell_type": "markdown",
      "source": [
        "연습문제 06"
      ],
      "metadata": {
        "id": "YtSdwYfsifA8"
      }
    },
    {
      "cell_type": "markdown",
      "source": [
        "Θ(1) , Θ(1)\n",
        "\n",
        "각 연산은 오직 하나의 노드에 대해서만 포인터를 수정하거나 접근하기 때문에, 시간 복잡도는 각각 Θ(1) 이라고 할 수 있다."
      ],
      "metadata": {
        "id": "W78L4v7_iiNE"
      }
    },
    {
      "cell_type": "markdown",
      "source": [
        "연습문제 07"
      ],
      "metadata": {
        "id": "fViUmOVBlSdX"
      }
    },
    {
      "cell_type": "markdown",
      "source": [
        "Θ(n), Θ(n)\n",
        "단방향 연결 리스트를 기반으로 한 Deque는 Θ(1) 혹은 Θ(n)의 시간 복잡도를 가진다.\n",
        "최악의 경우를 고려하면, enqueue()와 dequeue() 연산 모두 Θ(n)의 수행 시간을 갖는다."
      ],
      "metadata": {
        "id": "hjiivbg8mh8r"
      }
    },
    {
      "cell_type": "markdown",
      "source": [
        "연습문제 08"
      ],
      "metadata": {
        "id": "oDUonPxVnNBm"
      }
    },
    {
      "cell_type": "code",
      "source": [
        "class ListDeque:\n",
        "    def __init__(self):\n",
        "        self.__queue = []\n",
        "\n",
        "    def enqueue(self, x):\n",
        "        self.__queue.append(x)\n",
        "\n",
        "    def dequeue(self):\n",
        "        return self.__queue.pop(0)\n",
        "\n",
        "    def push(self, x):\n",
        "        self.__queue.insert(0, x)\n",
        "\n",
        "    def pop(self):\n",
        "        return self.__queue.pop()\n",
        "\n",
        "    def front(self):\n",
        "        if self.is_empty():\n",
        "            return None\n",
        "        else:\n",
        "            return self.__queue[0]\n",
        "\n",
        "    def rear(self):\n",
        "        if self.is_empty():\n",
        "            return None\n",
        "        else:\n",
        "            return self.__queue[-1]\n",
        "\n",
        "    def is_empty(self):\n",
        "        return not bool(self.__queue)\n",
        "\n",
        "    def dequeue_all(self):\n",
        "        self.__queue.clear()\n",
        "\n",
        "    def print_deque(self):\n",
        "        print(\"Deque from front:\", end=' ')\n",
        "        for x in self.__queue:\n",
        "            print(x, end=' ')\n",
        "        print()"
      ],
      "metadata": {
        "id": "zXim5gn3ni1h"
      },
      "execution_count": null,
      "outputs": []
    }
  ]
}